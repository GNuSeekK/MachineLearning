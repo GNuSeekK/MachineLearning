{
  "nbformat": 4,
  "nbformat_minor": 0,
  "metadata": {
    "colab": {
      "name": "DB 데이터 크롤링.ipynb",
      "provenance": [],
      "collapsed_sections": [
        "VyLZ6_DKRKl6"
      ],
      "toc_visible": true,
      "machine_shape": "hm",
      "authorship_tag": "ABX9TyM+3eG/XlR/I3/W5UCP04cd",
      "include_colab_link": true
    },
    "kernelspec": {
      "display_name": "Python 3",
      "name": "python3"
    },
    "language_info": {
      "name": "python"
    },
    "accelerator": "TPU"
  },
  "cells": [
    {
      "cell_type": "markdown",
      "metadata": {
        "id": "view-in-github",
        "colab_type": "text"
      },
      "source": [
        "<a href=\"https://colab.research.google.com/github/GNuSeekK/MachineLearning/blob/main/DB_%EB%8D%B0%EC%9D%B4%ED%84%B0_%ED%81%AC%EB%A1%A4%EB%A7%81.ipynb\" target=\"_parent\"><img src=\"https://colab.research.google.com/assets/colab-badge.svg\" alt=\"Open In Colab\"/></a>"
      ]
    },
    {
      "cell_type": "markdown",
      "metadata": {
        "id": "ELaWT7MMQvxd"
      },
      "source": [
        "# 구글 드라이브 Mount"
      ]
    },
    {
      "cell_type": "code",
      "metadata": {
        "colab": {
          "base_uri": "https://localhost:8080/"
        },
        "id": "bfnPcpS7Q5Nq",
        "outputId": "e6352502-b071-4c0f-dfdc-4a759ac2792b"
      },
      "source": [
        "from google.colab import drive\n",
        "drive.mount('/content/gdrive/')"
      ],
      "execution_count": 1,
      "outputs": [
        {
          "output_type": "stream",
          "text": [
            "Mounted at /content/gdrive/\n"
          ],
          "name": "stdout"
        }
      ]
    },
    {
      "cell_type": "markdown",
      "metadata": {
        "id": "VyLZ6_DKRKl6"
      },
      "source": [
        "# Frame_work , Library import"
      ]
    },
    {
      "cell_type": "code",
      "metadata": {
        "colab": {
          "base_uri": "https://localhost:8080/"
        },
        "id": "m8m2WlvfRGeC",
        "outputId": "3a17a53b-064f-4467-90d9-aa688ed4999a"
      },
      "source": [
        "!pip install pymysql\n",
        " \n",
        "#드라이브 마운트\n",
        "import pandas as pd\n",
        "import numpy as np\n",
        "import random\n",
        "import os, sys\n",
        "import pymysql\n",
        "import datetime as dt\n",
        "import requests\n",
        "from bs4 import BeautifulSoup\n",
        "import multiprocessing as mp\n",
        "from multiprocessing import Pool, Manager\n",
        "from dateutil.relativedelta import relativedelta"
      ],
      "execution_count": 2,
      "outputs": [
        {
          "output_type": "stream",
          "text": [
            "Collecting pymysql\n",
            "\u001b[?25l  Downloading https://files.pythonhosted.org/packages/4f/52/a115fe175028b058df353c5a3d5290b71514a83f67078a6482cff24d6137/PyMySQL-1.0.2-py3-none-any.whl (43kB)\n",
            "\r\u001b[K     |███████▌                        | 10kB 17.5MB/s eta 0:00:01\r\u001b[K     |███████████████                 | 20kB 15.6MB/s eta 0:00:01\r\u001b[K     |██████████████████████▍         | 30kB 9.4MB/s eta 0:00:01\r\u001b[K     |██████████████████████████████  | 40kB 7.8MB/s eta 0:00:01\r\u001b[K     |████████████████████████████████| 51kB 3.0MB/s \n",
            "\u001b[?25hInstalling collected packages: pymysql\n",
            "Successfully installed pymysql-1.0.2\n"
          ],
          "name": "stdout"
        }
      ]
    },
    {
      "cell_type": "markdown",
      "metadata": {
        "id": "mLY-j5rcX6Pl"
      },
      "source": [
        "#Function"
      ]
    },
    {
      "cell_type": "markdown",
      "metadata": {
        "id": "0-HqrRwFCSeU"
      },
      "source": [
        "## 공유 메모리 관리"
      ]
    },
    {
      "cell_type": "code",
      "metadata": {
        "id": "KCNyJsA_CRp_"
      },
      "source": [
        "num_cores = mp.cpu_count()\n",
        "manager = Manager()\n",
        "db_index = manager.list(list(range(num_cores)))\n",
        "progress = manager.list([0 for x in range(num_cores)])"
      ],
      "execution_count": 20,
      "outputs": []
    },
    {
      "cell_type": "markdown",
      "metadata": {
        "id": "KL3M3_BwYRVe"
      },
      "source": [
        "## Function **my_pbar**\n",
        "* 매개변수(parameter) : value, endvalue, bar_length(default = 20)"
      ]
    },
    {
      "cell_type": "code",
      "metadata": {
        "id": "iQoP4N4KT3Kf"
      },
      "source": [
        "def my_pbar(value, endvalue, bar_length = 20):\n",
        "    if value % 100 == 0 or value == endvalue:\n",
        "        percent = float(value) / endvalue\n",
        "        complete = '<' + '▮' * int(round(percent * bar_length)-1)\n",
        "        remain = '▯' * (bar_length - len(complete)) + '>'\n",
        "        if percent <= 0.33:\n",
        "            color = 91\n",
        "            sys.stdout.write(f\"\\r\\033[{color}m Percent: [{complete+remain}] {round(percent*100,2)}%\\033[0m\")\n",
        "        elif percent <= 0.66:\n",
        "            color = 93\n",
        "            sys.stdout.write(f\"\\r\\033[{color}m Percent: [{complete+remain}] {round(percent*100,2)}%\\033[0m\")\n",
        "        elif percent == 1:\n",
        "            color = 92\n",
        "            sys.stdout.write(f\"\\r\\033[{color}m Percent: [{complete+remain}] {round(percent*100,2)}%\\033[0m\")\n",
        "        else:\n",
        "            color = 96\n",
        "            sys.stdout.write(f\"\\r\\033[{color}m Percent: [{complete+remain}] {round(percent*100,2)}%\\033[0m\")\n",
        "        sys.stdout.flush()"
      ],
      "execution_count": 4,
      "outputs": []
    },
    {
      "cell_type": "markdown",
      "metadata": {
        "id": "h0Qa7WURXzsn"
      },
      "source": [
        "\n",
        "## Function **db_connecting_aws**"
      ]
    },
    {
      "cell_type": "code",
      "metadata": {
        "id": "UpOM0M3XRNw3"
      },
      "source": [
        "def db_connecting_aws(db_name):\n",
        "    path = r'/content/gdrive/My Drive/DB 정보/AWS'\n",
        "    f = open(path)\n",
        "    id, pw, host = f.read().split()\n",
        "    db = pymysql.connect(\n",
        "        user = id,\n",
        "        port = 3306,\n",
        "        passwd = pw,\n",
        "        host = host,\n",
        "        db = db_name,\n",
        "        charset = 'utf8',\n",
        "        cursorclass = pymysql.cursors.DictCursor\n",
        "    )\n",
        "    return db"
      ],
      "execution_count": 5,
      "outputs": []
    },
    {
      "cell_type": "markdown",
      "metadata": {
        "id": "jYOECu0KV_ds"
      },
      "source": [
        "### 실제 DB에 연결하기\n",
        "* cpu의 갯수만큼 연결한다.\n",
        "* 하나로 쓸 db, 여러개로 사용할 db_list를 따로 구성한다"
      ]
    },
    {
      "cell_type": "code",
      "metadata": {
        "id": "69Ktkks_V7vb"
      },
      "source": [
        "\n",
        "#db 작업\n",
        " \n",
        "db = db_connecting_aws('stockdb')\n",
        "\n",
        "db_list_aws = []\n",
        "num_cores = mp.cpu_count()\n",
        "for _ in range(num_cores):\n",
        "    db_list_aws.append(db_connecting_aws('stockdb'))"
      ],
      "execution_count": 6,
      "outputs": []
    },
    {
      "cell_type": "markdown",
      "metadata": {
        "id": "ocyqauxUX-nl"
      },
      "source": [
        "## Function insert_data\n",
        "* 매개변수(parameter) : db, df, tbl\n",
        "    > db를 이용하여 df(데이터프레임)을 tbl(테이블)에 replace insert 한다."
      ]
    },
    {
      "cell_type": "code",
      "metadata": {
        "id": "zGwYgiBVYLEn"
      },
      "source": [
        "#데이터 넣기, 입력값 // db = 데이터베이스, df = 데이터프레임\n",
        "def insert_data(db,df,tbl):\n",
        "    df_list = df.values.tolist()\n",
        "    slicing = 5000\n",
        "    rep = int(len(df_list)/slicing) + 1 #반복횟수\n",
        "    for num in range(rep):\n",
        "        if num != (rep-1):\n",
        "            df_sql = df_list[num*slicing:(num+1)*slicing]\n",
        "        else:\n",
        "            df_sql = df_list[num*slicing:]\n",
        "        sql_list = []\n",
        "        for value in df_sql:\n",
        "            tmp = '(' + ', '.join(value) + ')'\n",
        "            sql_list.append(tmp)\n",
        "    \n",
        "        sql = 'replace into %s values ' %tbl + ', '.join(sql_list)\n",
        "        with db.cursor() as cursor:\n",
        "            cursor.execute(sql)\n",
        "    db.commit()"
      ],
      "execution_count": 7,
      "outputs": []
    },
    {
      "cell_type": "markdown",
      "metadata": {
        "id": "Yh-U8V4bCwhK"
      },
      "source": [
        "## Function ftbl_input\n",
        "* 매개변수(parameter) : code\n",
        "    > 종목코드가 code인 주식의 Financial Data를 ftbl에 넣는다.\n",
        "    \n",
        "    > insert_data를 내부적으로 사용한다."
      ]
    },
    {
      "cell_type": "code",
      "metadata": {
        "id": "oiWEw-sdC0gX"
      },
      "source": [
        "def ftbl_input(code):\n",
        "    tmp_index = db_index.pop(0)\n",
        "    db = db_list_aws[tmp_index]\n",
        "    try:\n",
        "        fs_url = 'https://comp.fnguide.com/SVO2/ASP/SVD_Invest.asp?pGB=1&gicode=A%s&cID=&MenuYn=Y&ReportGB=&NewMenuID=105&stkGb=701' %code\n",
        "        fs_page = requests.get(fs_url)\n",
        "        soup = BeautifulSoup(fs_page.text, \"html.parser\")\n",
        "        #수정평균주식수\n",
        "        stock = soup.find_all('tr', class_= 'c_grid1_1 rwf acd_dep2_sub')\n",
        "        CR_Data = [x.text for x in stock if '주식수' in x.text]#크롤링 데이터\n",
        "        index = str(CR_Data).find('수정')\n",
        "        CR_Data = str(CR_Data)[index:]\n",
        "        CR_Data = CR_Data.replace('\\\\n', ' ')\n",
        "        CR_Data = CR_Data.replace('\\\\xa0', '0')\n",
        "        CR_Data = CR_Data.replace(',', '')\n",
        "        CR_Data = CR_Data.split(' ')[:6]\n",
        "        #날짜, EPS, BPS\n",
        "        data_df = pd.read_html(fs_page.text, index_col = 0)[1]\n",
        "        acc_month = data_df.columns.tolist()[-2].split('/')[1] #account month 결산월\n",
        "        df = []\n",
        "        for year in range(2018,2021):\n",
        "            column = [x for x in data_df.columns.tolist() if f'{year}/{acc_month}' in x]\n",
        "            if len(column) > 0:\n",
        "                column = column[0]\n",
        "                dateE = dt.datetime(year,int(acc_month),1) + relativedelta(months=17) + relativedelta(days=-1)\n",
        "                dateE = f\"'{str(dateE)[:10]}'\"\n",
        "                dateS = dt.datetime(year,int(acc_month),1) + relativedelta(months=5)\n",
        "                dateS = f\"'{str(dateS)[:10]}'\"\n",
        "                text_list = []\n",
        "                text_list.append(\"'\" + code + \"'\")\n",
        "                index = [x for x in data_df.index.tolist() if 'BPS계산' in x][0]\n",
        "                bps = data_df[column][index]\n",
        "                text_list.append(bps)\n",
        "                index = [x for x in data_df.index.tolist() if 'EPS계산' in x][0]\n",
        "                eps = data_df[column][index]\n",
        "                text_list.append(eps)\n",
        "                if np.nan not in text_list:\n",
        "                    text_list.insert(1,dateE)\n",
        "                    text_list.insert(1,dateS)\n",
        "                    index = data_df.columns.tolist().index(f'{year}/{acc_month}')\n",
        "                    text_list.append(CR_Data[index])\n",
        "                    text_list.insert(1,str(year))\n",
        "                    df.append(text_list)\n",
        "                else:\n",
        "                    print(f'{code} None값 존재')\n",
        "            else:\n",
        "                print(f'{code} Column 없음')\n",
        "        df = pd.DataFrame(df)\n",
        "        insert_data(db,df,'ftbl')\n",
        "    except:\n",
        "        print(f'Error : {code}')\n",
        "    finally:\n",
        "        db_index.append(tmp_index)\n",
        "        progress[tmp_index] = progress[tmp_index] + 1\n",
        "        my_pbar(sum(progress),len(code_list))"
      ],
      "execution_count": 21,
      "outputs": []
    },
    {
      "cell_type": "markdown",
      "metadata": {
        "id": "TguKzhPlOeM9"
      },
      "source": [
        "# 데이터 Input"
      ]
    },
    {
      "cell_type": "markdown",
      "metadata": {
        "id": "Wl7XI1bBPySF"
      },
      "source": [
        "## 1. COMtbl 입력\n",
        "* column : C_code(종목코드), C_name(회사명)\n",
        "* PK : C_code"
      ]
    },
    {
      "cell_type": "code",
      "metadata": {
        "colab": {
          "base_uri": "https://localhost:8080/"
        },
        "id": "xN4KGrK8Og28",
        "outputId": "1b9980b2-1e04-411d-cf40-e2f50c72308a"
      },
      "source": [
        "df = pd.read_html('http://kind.krx.co.kr/corpgeneral/corpList.do?method=download&searchType=13', header=0)[0]\n",
        "\n",
        "name_list = df['회사명'].tolist()\n",
        "code_list = df['종목코드'].tolist()\n",
        "code_list = list(map(str,code_list))\n",
        "code_list = [x.zfill(6) for x in code_list]\n",
        "\n",
        "code_dict = { code : value for code, value in zip(code_list,name_list)} # code와 회사 이름 딕셔너리\n",
        "\n",
        "exist_num = pd.read_sql(\"select count(*) from comtbl\",db).values[0][0]\n",
        "\n",
        "# COMtbl에 회사 이름과 코드 집어넣기\n",
        "sql = \"\"\"\n",
        "    insert ignore into comtbl values (%s, %s)\n",
        "\"\"\"\n",
        "\n",
        "with db.cursor() as cursor:\n",
        "    cursor.executemany(sql,list(code_dict.items()))\n",
        "    db.commit()\n",
        "\n",
        "insert_num = pd.read_sql(\"select count(*) from comtbl\",db).values[0][0]\n",
        "\n",
        "print(f'작업이 완료되었습니다. {insert_num - exist_num}개의 데이터가 업데이트 되었습니다.')\n",
        "\n",
        "#결과 확인\n",
        "sql = \"\"\"\n",
        "    select * from comtbl\n",
        "\"\"\"\n",
        "result = pd.read_sql(sql,db)"
      ],
      "execution_count": null,
      "outputs": [
        {
          "output_type": "stream",
          "text": [
            "작업이 완료되었습니다. 0개의 데이터가 업데이트 되었습니다.\n"
          ],
          "name": "stdout"
        }
      ]
    },
    {
      "cell_type": "markdown",
      "metadata": {
        "id": "GuERFLwUR37Q"
      },
      "source": [
        "## 2. Ftbl 입력\n",
        "* column : C_code(종목코드), dateS(시작일), dateE(종료일), BPS, EPS, Issued_Shares\n",
        "* Index : C_code(Foreign Key), dateS, dateE"
      ]
    },
    {
      "cell_type": "code",
      "metadata": {
        "colab": {
          "base_uri": "https://localhost:8080/"
        },
        "id": "ZwtMy8hIY704",
        "outputId": "56ede99c-d5c4-48b4-c474-35c3635b26e7"
      },
      "source": [
        "code_list = pd.read_sql(\"select distinct C_code From comtbl\",db)['C_code'].tolist()\n",
        "\n",
        "pool = Pool(num_cores) # process 만들기\n",
        " \n",
        "start_time = dt.datetime.now()\n",
        "pool.map(ftbl_input, code_list)\n",
        "my_pbar(100,100)\n",
        "print('총 걸린시간 : %s' %(dt.datetime.now() - start_time))\n",
        "pool.close()\n",
        "pool.join()"
      ],
      "execution_count": 22,
      "outputs": [
        {
          "output_type": "stream",
          "text": [
            "\u001b[91m Percent: [<▮▮▮▯▯▯▯▯▯▯▯▯▯▯▯▯▯▯▯>] 20.41%\u001b[0m036260 Column 없음\n",
            "054180 Column 없음\n",
            "042370 Column 없음\n",
            "\u001b[91m Percent: [<▮▮▮▮▮▯▯▯▯▯▯▯▯▯▯▯▯▯▯>] 28.57%\u001b[0m033600 None값 존재\n",
            "033600 None값 존재\n",
            "\u001b[91m Percent: [<▮▮▮▮▮▮▯▯▯▯▯▯▯▯▯▯▯▯▯>] 32.65%\u001b[0m028040 Column 없음\n",
            "\u001b[93m Percent: [<▮▮▮▮▮▮▯▯▯▯▯▯▯▯▯▯▯▯▯>] 36.73%\u001b[0m064510 None값 존재\n",
            "053110 None값 존재\n",
            "\u001b[93m Percent: [<▮▮▮▮▮▮▮▮▮▯▯▯▯▯▯▯▯▯▯>] 48.98%\u001b[0m088980 Column 없음\n",
            "088980 Column 없음\n",
            "088980 Column 없음\n",
            "Error : 088980\n",
            "\u001b[93m Percent: [<▮▮▮▮▮▮▮▮▮▮▯▯▯▯▯▯▯▯▯>] 53.06%\u001b[0m080440 None값 존재\n",
            "\u001b[93m Percent: [<▮▮▮▮▮▮▮▮▮▮▯▯▯▯▯▯▯▯▯>] 57.14%\u001b[0mError : 094800\n",
            "140290 None값 존재\n",
            "140290 None값 존재\n",
            "140290 None값 존재\n",
            "Error : 140290\n",
            "\u001b[93m Percent: [<▮▮▮▮▮▮▮▮▮▮▮▯▯▯▯▯▯▯▯>] 61.22%\u001b[0m086250 None값 존재\n",
            "086250 None값 존재\n",
            "096300 Column 없음\n",
            "096300 Column 없음\n",
            "096300 Column 없음\n",
            "Error : 096300\n",
            "087730 None값 존재\n",
            "114570 None값 존재\n",
            "088260 Column 없음\n",
            "090740 None값 존재\n",
            "\u001b[96m Percent: [<▮▮▮▮▮▮▮▮▮▮▮▮▮▯▯▯▯▯▯>] 69.39%\u001b[0m212310 None값 존재\n",
            "131100 Column 없음\n",
            "Error : 152550\n",
            "\u001b[96m Percent: [<▮▮▮▮▮▮▮▮▮▮▮▮▮▮▯▯▯▯▯>] 73.47%\u001b[0mError : 168490\n",
            "\u001b[96m Percent: [<▮▮▮▮▮▮▮▮▮▮▮▮▮▮▮▯▯▯▯>] 77.55%\u001b[0m329560 None값 존재\n",
            "334890 Column 없음\n",
            "334890 Column 없음\n",
            "160600 Column 없음\n",
            "160600 Column 없음\n",
            "347140 None값 존재\n",
            "347140 None값 존재\n",
            "293940 Column 없음\n",
            "\u001b[96m Percent: [<▮▮▮▮▮▮▮▮▮▮▮▮▮▮▮▯▯▯▯>] 81.63%\u001b[0m330590 Column 없음\n",
            "351340 None값 존재\n",
            "351340 None값 존재\n",
            "367460 None값 존재\n",
            "367460 None값 존재\n",
            "340120 None값 존재\n",
            "323210 None값 존재\n",
            "278380 Column 없음\n",
            "316140 None값 존재\n",
            "330860 None값 존재\n",
            "217910 None값 존재\n",
            "217910 None값 존재\n",
            "217910 None값 존재\n",
            "Error : 217910\n",
            "335870 None값 존재\n",
            "367480 None값 존재\n",
            "367480 None값 존재\n",
            "357120 Column 없음\n",
            "357120 Column 없음\n",
            "340350 None값 존재\n",
            "950210 None값 존재\n",
            "950210 None값 존재\n",
            "950210 None값 존재\n",
            "Error : 950210\n",
            "317030 None값 존재\n",
            "330990 None값 존재\n",
            "368770 None값 존재\n",
            "368770 None값 존재\n",
            "\u001b[96m Percent: [<▮▮▮▮▮▮▮▮▮▮▮▮▮▮▮▮▯▯▯>] 85.71%\u001b[0m340360 None값 존재\n",
            "950220 None값 존재\n",
            "950220 None값 존재\n",
            "323280 None값 존재\n",
            "331380 None값 존재\n",
            "369370 None값 존재\n",
            "369370 None값 존재\n",
            "357250 Column 없음\n",
            "357250 Column 없음\n",
            "340440 None값 존재\n",
            "331520 None값 존재\n",
            "319660 None값 존재\n",
            "900280 None값 존재\n",
            "372290 None값 존재\n",
            "372290 None값 존재\n",
            "336060 None값 존재\n",
            "323940 None값 존재\n",
            "317320 None값 존재\n",
            "373200 None값 존재\n",
            "373200 None값 존재\n",
            "336260 None값 존재\n",
            "\u001b[96m Percent: [<▮▮▮▮▮▮▮▮▮▮▮▮▮▮▮▮▮▯▯>] 89.8%\u001b[0m357780 None값 존재\n",
            "357780 None값 존재\n",
            "321260 None값 존재\n",
            "353060 None값 존재\n",
            "353060 None값 존재\n",
            "373340 None값 존재\n",
            "373340 None값 존재\n",
            "900300 None값 존재\n",
            "336370 None값 존재\n",
            "359090 None값 존재\n",
            "359090 None값 존재\n",
            "341160 None값 존재\n",
            "353070 None값 존재\n",
            "353070 None값 존재\n",
            "332290 None값 존재\n",
            "375500 None값 존재\n",
            "375500 None값 존재\n",
            "375500 None값 존재\n",
            "Error : 375500\n",
            "336570 None값 존재\n",
            "353190 None값 존재\n",
            "353190 None값 존재\n",
            "377400 None값 존재\n",
            "377400 None값 존재\n",
            "377400 None값 존재\n",
            "Error : 377400\n",
            "227950 Column 없음\n",
            "337450 None값 존재\n",
            "337450 Column 없음\n",
            "\u001b[96m Percent: [<▮▮▮▮▮▮▮▮▮▮▮▮▮▮▮▮▮▮▯>] 93.88%\u001b[0m342550 None값 존재\n",
            "361610 None값 존재\n",
            "361610 None값 존재\n",
            "361610 None값 존재\n",
            "353200 None값 존재\n",
            "353200 None값 존재\n",
            "Error : 361610\n",
            "378850 None값 존재\n",
            "378850 None값 존재\n",
            "378850 None값 존재\n",
            "Error : 378850\n",
            "291210 Column 없음\n",
            "363260 None값 존재\n",
            "363260 None값 존재\n",
            "353490 None값 존재\n",
            "353490 None값 존재\n",
            "332710 None값 존재\n",
            "328380 None값 존재\n",
            "348950 Column 없음\n",
            "348950 Column 없음\n",
            "353810 None값 존재\n",
            "353810 None값 존재\n",
            "363280 None값 존재\n",
            "363280 None값 존재\n",
            "343510 None값 존재\n",
            "900080 None값 존재\n",
            "333050 None값 존재\n",
            "349720 None값 존재\n",
            "349720 None값 존재\n",
            "\u001b[96m Percent: [<▮▮▮▮▮▮▮▮▮▮▮▮▮▮▮▮▮▮▮>] 97.96%\u001b[0m338100 Column 없음\n",
            "338100 None값 존재\n",
            "344050 None값 존재\n",
            "365550 Column 없음\n",
            "365550 Column 없음\n",
            "365550 None값 존재\n",
            "900100 None값 존재\n",
            "Error : 365550\n",
            "333430 None값 존재\n",
            "350520 Column 없음\n",
            "350520 Column 없음\n",
            "344820 None값 존재\n",
            "344820 None값 존재\n",
            "365590 None값 존재\n",
            "365590 None값 존재\n",
            "351320 None값 존재\n",
            "351320 None값 존재\n",
            "366330 None값 존재\n",
            "366330 None값 존재\n",
            "355150 None값 존재\n",
            "355150 None값 존재\n",
            "344860 None값 존재\n",
            "367340 None값 존재\n",
            "367340 None값 존재\n",
            "367360 None값 존재\n",
            "367360 None값 존재\n",
            "\u001b[92m Percent: [<▮▮▮▮▮▮▮▮▮▮▮▮▮▮▮▮▮▮▮>] 100.0%\u001b[0m총 걸린시간 : 0:01:18.127070\n"
          ],
          "name": "stdout"
        }
      ]
    }
  ]
}