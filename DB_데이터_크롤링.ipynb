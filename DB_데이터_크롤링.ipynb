{
  "nbformat": 4,
  "nbformat_minor": 0,
  "metadata": {
    "colab": {
      "name": "DB 데이터 크롤링.ipynb",
      "provenance": [],
      "collapsed_sections": [
        "ELaWT7MMQvxd",
        "h0Qa7WURXzsn",
        "jYOECu0KV_ds",
        "ocyqauxUX-nl"
      ],
      "toc_visible": true,
      "authorship_tag": "ABX9TyOLT4T8Xj4Q6r4rO8QIL3hX",
      "include_colab_link": true
    },
    "kernelspec": {
      "name": "python3",
      "display_name": "Python 3"
    },
    "language_info": {
      "name": "python"
    }
  },
  "cells": [
    {
      "cell_type": "markdown",
      "metadata": {
        "id": "view-in-github",
        "colab_type": "text"
      },
      "source": [
        "<a href=\"https://colab.research.google.com/github/GNuSeekK/MachineLearning/blob/main/DB_%EB%8D%B0%EC%9D%B4%ED%84%B0_%ED%81%AC%EB%A1%A4%EB%A7%81.ipynb\" target=\"_parent\"><img src=\"https://colab.research.google.com/assets/colab-badge.svg\" alt=\"Open In Colab\"/></a>"
      ]
    },
    {
      "cell_type": "markdown",
      "metadata": {
        "id": "ELaWT7MMQvxd"
      },
      "source": [
        "# 구글 드라이브 Mount"
      ]
    },
    {
      "cell_type": "code",
      "metadata": {
        "colab": {
          "base_uri": "https://localhost:8080/"
        },
        "id": "bfnPcpS7Q5Nq",
        "outputId": "2eaed9cd-fbad-4b85-9dd7-ecaab6d9d43d"
      },
      "source": [
        "from google.colab import drive\n",
        "drive.mount('/content/gdrive/')"
      ],
      "execution_count": 1,
      "outputs": [
        {
          "output_type": "stream",
          "text": [
            "Mounted at /content/gdrive/\n"
          ],
          "name": "stdout"
        }
      ]
    },
    {
      "cell_type": "markdown",
      "metadata": {
        "id": "VyLZ6_DKRKl6"
      },
      "source": [
        "# Frame_work , Library import"
      ]
    },
    {
      "cell_type": "code",
      "metadata": {
        "colab": {
          "base_uri": "https://localhost:8080/"
        },
        "id": "m8m2WlvfRGeC",
        "outputId": "dcd44cee-a8f3-4385-b37d-991f8fa79094"
      },
      "source": [
        "!pip install pymysql\n",
        " \n",
        "#드라이브 마운트\n",
        "import pandas as pd\n",
        "import numpy as np\n",
        "import random\n",
        "import os, sys\n",
        "import pymysql\n",
        "import datetime as dt\n",
        "import requests\n",
        "from bs4 import BeautifulSoup\n",
        "import multiprocessing as mp\n",
        "from multiprocessing import Pool, Manager\n",
        "from dateutil.relativedelta import relativedelta"
      ],
      "execution_count": 44,
      "outputs": [
        {
          "output_type": "stream",
          "text": [
            "Requirement already satisfied: pymysql in /usr/local/lib/python3.7/dist-packages (1.0.2)\n"
          ],
          "name": "stdout"
        }
      ]
    },
    {
      "cell_type": "markdown",
      "metadata": {
        "id": "mLY-j5rcX6Pl"
      },
      "source": [
        "#Function"
      ]
    },
    {
      "cell_type": "markdown",
      "metadata": {
        "id": "h0Qa7WURXzsn"
      },
      "source": [
        "\n",
        "## Function **db_connecting_aws**"
      ]
    },
    {
      "cell_type": "code",
      "metadata": {
        "id": "UpOM0M3XRNw3"
      },
      "source": [
        "def db_connecting_aws(db_name):\n",
        "    path = r'/content/gdrive/My Drive/DB 정보/AWS'\n",
        "    f = open(path)\n",
        "    id, pw, host = f.read().split()\n",
        "    db = pymysql.connect(\n",
        "        user = id,\n",
        "        port = 3306,\n",
        "        passwd = pw,\n",
        "        host = host,\n",
        "        db = db_name,\n",
        "        charset = 'utf8',\n",
        "        cursorclass = pymysql.cursors.DictCursor\n",
        "    )\n",
        "    return db"
      ],
      "execution_count": 4,
      "outputs": []
    },
    {
      "cell_type": "markdown",
      "metadata": {
        "id": "jYOECu0KV_ds"
      },
      "source": [
        "### 실제 DB에 연결하기\n",
        "* cpu의 갯수만큼 연결한다.\n",
        "* 하나로 쓸 db, 여러개로 사용할 db_list를 따로 구성한다"
      ]
    },
    {
      "cell_type": "code",
      "metadata": {
        "id": "69Ktkks_V7vb"
      },
      "source": [
        "#db 작업\n",
        " \n",
        "db = db_connecting_aws('stockdb')"
      ],
      "execution_count": 5,
      "outputs": []
    },
    {
      "cell_type": "markdown",
      "metadata": {
        "id": "ocyqauxUX-nl"
      },
      "source": [
        "## Function insert_data"
      ]
    },
    {
      "cell_type": "code",
      "metadata": {
        "id": "zGwYgiBVYLEn"
      },
      "source": [
        "#데이터 넣기, 입력값 // db = 데이터베이스, df = 데이터프레임\n",
        "def insert_data(db,df,tbl):\n",
        "    df_list = df.values.tolist()\n",
        "    slicing = 5000\n",
        "    rep = int(len(df_list)/slicing) + 1 #반복횟수\n",
        "    for num in range(rep):\n",
        "        if num != (rep-1):\n",
        "            df_sql = df_list[num*slicing:(num+1)*slicing]\n",
        "        else:\n",
        "            df_sql = df_list[num*slicing:]\n",
        "        sql_list = []\n",
        "        for value in df_sql:\n",
        "            tmp = '(' + ', '.join(value) + ')'\n",
        "            sql_list.append(tmp)\n",
        "    \n",
        "        sql = 'insert into %s values ' %tbl + ', '.join(sql_list)\n",
        "        with db.cursor() as cursor:\n",
        "            cursor.execute(sql)\n",
        "    db.commit()"
      ],
      "execution_count": null,
      "outputs": []
    },
    {
      "cell_type": "markdown",
      "metadata": {
        "id": "TguKzhPlOeM9"
      },
      "source": [
        "# 데이터 Input"
      ]
    },
    {
      "cell_type": "markdown",
      "metadata": {
        "id": "Wl7XI1bBPySF"
      },
      "source": [
        "## 1. COMtbl 입력\n",
        "* column : C_code(종목코드), C_name(회사명)\n",
        "* PK : C_code"
      ]
    },
    {
      "cell_type": "code",
      "metadata": {
        "colab": {
          "base_uri": "https://localhost:8080/"
        },
        "id": "xN4KGrK8Og28",
        "outputId": "1b9980b2-1e04-411d-cf40-e2f50c72308a"
      },
      "source": [
        "df = pd.read_html('http://kind.krx.co.kr/corpgeneral/corpList.do?method=download&searchType=13', header=0)[0]\n",
        "\n",
        "name_list = df['회사명'].tolist()\n",
        "code_list = df['종목코드'].tolist()\n",
        "code_list = list(map(str,code_list))\n",
        "code_list = [x.zfill(6) for x in code_list]\n",
        "\n",
        "code_dict = { code : value for code, value in zip(code_list,name_list)} # code와 회사 이름 딕셔너리\n",
        "\n",
        "exist_num = pd.read_sql(\"select count(*) from comtbl\",db).values[0][0]\n",
        "\n",
        "# COMtbl에 회사 이름과 코드 집어넣기\n",
        "sql = \"\"\"\n",
        "    insert ignore into comtbl values (%s, %s)\n",
        "\"\"\"\n",
        "\n",
        "with db.cursor() as cursor:\n",
        "    cursor.executemany(sql,list(code_dict.items()))\n",
        "    db.commit()\n",
        "\n",
        "insert_num = pd.read_sql(\"select count(*) from comtbl\",db).values[0][0]\n",
        "\n",
        "print(f'작업이 완료되었습니다. {insert_num - exist_num}개의 데이터가 업데이트 되었습니다.')\n",
        "\n",
        "#결과 확인\n",
        "sql = \"\"\"\n",
        "    select * from comtbl\n",
        "\"\"\"\n",
        "result = pd.read_sql(sql,db)"
      ],
      "execution_count": 14,
      "outputs": [
        {
          "output_type": "stream",
          "text": [
            "작업이 완료되었습니다. 0개의 데이터가 업데이트 되었습니다.\n"
          ],
          "name": "stdout"
        }
      ]
    },
    {
      "cell_type": "markdown",
      "metadata": {
        "id": "GuERFLwUR37Q"
      },
      "source": [
        "## 2. Ftbl 입력\n",
        "* column : C_code(종목코드), dateS(시작일), dateE(종료일), BPS, EPS, Issued_Shares\n",
        "* Index : C_code(Foreign Key), dateS, dateE"
      ]
    },
    {
      "cell_type": "code",
      "metadata": {
        "colab": {
          "base_uri": "https://localhost:8080/"
        },
        "id": "ZwtMy8hIY704",
        "outputId": "9ea45619-9d52-4c2d-dd51-00a09e02b948"
      },
      "source": [
        "code_list = pd.read_sql(\"select distinct C_code From comtbl\",db)['C_code'].tolist()\n",
        "\n",
        "for code in code_list:\n",
        "    print(code)\n",
        "    fs_url = 'https://comp.fnguide.com/SVO2/ASP/SVD_Invest.asp?pGB=1&gicode=A%s&cID=&MenuYn=Y&ReportGB=&NewMenuID=105&stkGb=701' %code\n",
        "    fs_page = requests.get(fs_url)\n",
        "    soup = BeautifulSoup(fs_page.text, \"html.parser\")\n",
        "    #수정평균주식수\n",
        "    stock = soup.find_all('tr', class_= 'c_grid1_1 rwf acd_dep2_sub')\n",
        "    CR_Data = [x.text for x in stock if '주식수' in x.text]#크롤링 데이터\n",
        "    index = str(CR_Data).find('수정')\n",
        "    CR_Data = str(CR_Data)[index:]\n",
        "    CR_Data = CR_Data.replace('\\\\n', ' ')\n",
        "    CR_Data = CR_Data.replace('\\\\xa0', '0')\n",
        "    CR_Data = CR_Data.replace(',', '')\n",
        "    CR_Data = CR_Data.split(' ')[:6]\n",
        "    #날짜, EPS, BPS\n",
        "    data_df = pd.read_html(fs_page.text, index_col = 0)[1]\n",
        "    acc_month = data_df.columns.tolist()[-2].split('/')[1]\n",
        "    df = []\n",
        "    for year in range(2018,2021):\n",
        "        dateE = dt.datetime(year,int(acc_month),1) + relativedelta(months=17) + relativedelta(days=-1)\n",
        "        dateS = dt.datetime(year,int(acc_month),1) + relativedelta(months=5)\n",
        "        text_list = []\n",
        "        text_list.append(\"'\" + code + \"'\")\n",
        "        column = [x for x in data_df.columns.tolist() if f'{year}/{acc_month}' in x]\n",
        "        index = [x for x in data_df.index.tolist() if 'BPS계산' in x][0]\n",
        "        bps = data_df.loc[index][column].values[0]\n",
        "        text_list.append(bps)\n",
        "        index = [x for x in data_df.index.tolist() if 'EPS계산' in x][0]\n",
        "        eps = data_df.loc[index][column].values[0]\n",
        "        text_list.append(eps)\n",
        "        if np.nan not in text_list:\n",
        "            text_list.insert(1,dateE)\n",
        "            text_list.insert(1,dateS)\n",
        "            index = data_df.columns.tolist().index(f'{year}/{acc_month}')\n",
        "            text_list.append(CR_Data[index])\n",
        "            df.append(text_list)\n",
        "        else:\n",
        "            print('None값 존재')\n",
        "    df = pd.DataFrame(df)\n",
        "    \n",
        "#insert_data(db,df,'Ftbl')\n",
        "#print(str(num) + ' ' + code + ' 데이터 삽입완료')"
      ],
      "execution_count": null,
      "outputs": [
        {
          "output_type": "stream",
          "text": [
            "000020\n",
            "000040\n",
            "000050\n",
            "000060\n",
            "000070\n",
            "000080\n",
            "000100\n",
            "000120\n",
            "000140\n",
            "000150\n",
            "000180\n",
            "000210\n",
            "000220\n",
            "000230\n",
            "000240\n",
            "000250\n",
            "000270\n",
            "000300\n",
            "000320\n",
            "000370\n",
            "000390\n",
            "000400\n",
            "000430\n",
            "000440\n",
            "000480\n",
            "000490\n",
            "000500\n",
            "000520\n",
            "000540\n",
            "000590\n",
            "000640\n",
            "000650\n",
            "000660\n",
            "000670\n",
            "000680\n",
            "000700\n",
            "000720\n",
            "000760\n",
            "000810\n",
            "000850\n",
            "000860\n",
            "000880\n",
            "000890\n",
            "000910\n",
            "000950\n",
            "000970\n",
            "000990\n",
            "001000\n",
            "001020\n",
            "001040\n",
            "001060\n",
            "001070\n",
            "001080\n",
            "001120\n",
            "001130\n",
            "001140\n",
            "001200\n",
            "001210\n",
            "001230\n",
            "001250\n",
            "001260\n",
            "001270\n",
            "001290\n",
            "001340\n",
            "001360\n",
            "001380\n",
            "001390\n",
            "001420\n",
            "001430\n",
            "001440\n",
            "001450\n",
            "001460\n",
            "001470\n",
            "001500\n",
            "001510\n",
            "001520\n",
            "001530\n",
            "001540\n",
            "001550\n",
            "001560\n",
            "001570\n",
            "001620\n",
            "001630\n",
            "001680\n",
            "001720\n",
            "001740\n",
            "001750\n",
            "001770\n",
            "001780\n",
            "001790\n",
            "001800\n",
            "001810\n",
            "001820\n",
            "001840\n",
            "001880\n",
            "001940\n",
            "002020\n",
            "002030\n",
            "002070\n",
            "002100\n",
            "002140\n",
            "002150\n",
            "002170\n",
            "002200\n",
            "002210\n",
            "002220\n",
            "002230\n",
            "002240\n",
            "002270\n",
            "002290\n",
            "002310\n",
            "002320\n",
            "002350\n",
            "002360\n",
            "002380\n",
            "002390\n",
            "002410\n",
            "002420\n",
            "002450\n",
            "002460\n",
            "002600\n",
            "002620\n",
            "002630\n",
            "002680\n",
            "002690\n",
            "002700\n",
            "002710\n",
            "002720\n",
            "002760\n",
            "002780\n",
            "002790\n",
            "002800\n",
            "002810\n",
            "002820\n",
            "002840\n",
            "002870\n",
            "002880\n",
            "002900\n",
            "002920\n",
            "002960\n",
            "002990\n",
            "003000\n",
            "003010\n",
            "003030\n",
            "003060\n",
            "003070\n",
            "003080\n",
            "003090\n",
            "003100\n",
            "003120\n",
            "003160\n",
            "003200\n",
            "003220\n",
            "003230\n",
            "003240\n",
            "003280\n",
            "003300\n",
            "003310\n",
            "003350\n",
            "003380\n",
            "003410\n",
            "003460\n",
            "003470\n",
            "003480\n",
            "003490\n",
            "003520\n",
            "003530\n",
            "003540\n",
            "003550\n",
            "003560\n",
            "003570\n",
            "003580\n",
            "003610\n",
            "003620\n",
            "003650\n",
            "003670\n",
            "003680\n",
            "003690\n",
            "003720\n",
            "003780\n",
            "003800\n",
            "003830\n",
            "003850\n",
            "003920\n",
            "003960\n",
            "004000\n",
            "004020\n",
            "004060\n",
            "004080\n",
            "004090\n",
            "004100\n",
            "004140\n",
            "004150\n",
            "004170\n",
            "004250\n",
            "004270\n",
            "004310\n",
            "004360\n",
            "004370\n",
            "004380\n",
            "004410\n",
            "004430\n",
            "004440\n",
            "004450\n",
            "004490\n",
            "004540\n",
            "004560\n",
            "004590\n",
            "004650\n",
            "004690\n",
            "004700\n"
          ],
          "name": "stdout"
        }
      ]
    }
  ]
}